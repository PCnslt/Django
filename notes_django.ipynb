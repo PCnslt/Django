{
 "cells": [
  {
   "cell_type": "markdown",
   "id": "69517161",
   "metadata": {},
   "source": [
    "# Start Project"
   ]
  },
  {
   "cell_type": "markdown",
   "id": "fd780f49",
   "metadata": {},
   "source": [
    "### Create Project"
   ]
  },
  {
   "cell_type": "markdown",
   "id": "9509f4c3",
   "metadata": {},
   "source": [
    "django-admin startproject project_name"
   ]
  },
  {
   "cell_type": "markdown",
   "id": "6a0b0c55",
   "metadata": {},
   "source": [
    "### Run the server"
   ]
  },
  {
   "cell_type": "markdown",
   "id": "32ff9e6c",
   "metadata": {},
   "source": [
    "python3 manage.py runserver"
   ]
  },
  {
   "cell_type": "markdown",
   "id": "242e857e",
   "metadata": {},
   "source": [
    "### Create a new App"
   ]
  },
  {
   "cell_type": "markdown",
   "id": "94e740b3",
   "metadata": {},
   "source": [
    "python3 manage.py startapp app_name"
   ]
  },
  {
   "cell_type": "markdown",
   "id": "34e61e19",
   "metadata": {},
   "source": [
    "# URLs and Views"
   ]
  },
  {
   "cell_type": "markdown",
   "id": "6596184d",
   "metadata": {},
   "source": [
    "### Create URLs"
   ]
  },
  {
   "cell_type": "markdown",
   "id": "39f6bb64",
   "metadata": {},
   "source": [
    "Update 'views.py' file inside the app folder."
   ]
  },
  {
   "cell_type": "code",
   "execution_count": null,
   "id": "bb9f394f",
   "metadata": {},
   "outputs": [],
   "source": [
    "from django.shortcuts import render\n",
    "from django.http import HttpResponse\n",
    "\n",
    "# Create your views here.\n",
    "\n",
    "\n",
    "def index(request):\n",
    "    return HttpResponse(\"Hello World\")"
   ]
  },
  {
   "cell_type": "markdown",
   "id": "ed5e57b4",
   "metadata": {},
   "source": [
    "Create 'urls.py' file inside the app folder, and call the view.index that was created above."
   ]
  },
  {
   "cell_type": "code",
   "execution_count": null,
   "id": "60cdc8b6",
   "metadata": {},
   "outputs": [],
   "source": [
    "from django.urls import path\n",
    "from . import views\n",
    "\n",
    "urlpatterns = [path(\"january\", views.index)]"
   ]
  },
  {
   "cell_type": "markdown",
   "id": "9c1e54ce",
   "metadata": {},
   "source": [
    "Connect the above app url config, to the entire project's urls.py config file:"
   ]
  },
  {
   "cell_type": "code",
   "execution_count": null,
   "id": "5456b174",
   "metadata": {},
   "outputs": [],
   "source": [
    "\"\"\"\n",
    "URL configuration for monthly_challenges project.\n",
    "\n",
    "The `urlpatterns` list routes URLs to views. For more information please see:\n",
    "    https://docs.djangoproject.com/en/5.2/topics/http/urls/\n",
    "Examples:\n",
    "Function views\n",
    "    1. Add an import:  from my_app import views\n",
    "    2. Add a URL to urlpatterns:  path('', views.home, name='home')\n",
    "Class-based views\n",
    "    1. Add an import:  from other_app.views import Home\n",
    "    2. Add a URL to urlpatterns:  path('', Home.as_view(), name='home')\n",
    "Including another URLconf\n",
    "    1. Import the include() function: from django.urls import include, path\n",
    "    2. Add a URL to urlpatterns:  path('blog/', include('blog.urls'))\n",
    "\"\"\"\n",
    "\n",
    "from django.contrib import admin\n",
    "from django.urls import path, include\n",
    "\n",
    "urlpatterns = [\n",
    "    path(\"admin/\", admin.site.urls),\n",
    "    path(\"challenges/\", include(\"challenges.urls\")),\n",
    "]"
   ]
  },
  {
   "cell_type": "markdown",
   "id": "57b9ff5a",
   "metadata": {},
   "source": [
    "### Add more Views and URLs"
   ]
  },
  {
   "cell_type": "markdown",
   "id": "fc7fbfea",
   "metadata": {},
   "source": [
    "Update the 'urls.py' file and 'views.py' file in the app folder:"
   ]
  },
  {
   "cell_type": "markdown",
   "id": "56e10748",
   "metadata": {},
   "source": [
    "`urls.py`"
   ]
  },
  {
   "cell_type": "code",
   "execution_count": null,
   "id": "d0cf2de8",
   "metadata": {},
   "outputs": [],
   "source": [
    "from django.shortcuts import render\n",
    "from django.http import HttpResponse\n",
    "\n",
    "# Create your views here.\n",
    "\n",
    "\n",
    "def january(request):\n",
    "    return HttpResponse(\"Eat no meat for entire month.\")\n",
    "\n",
    "\n",
    "def february(request):\n",
    "    return HttpResponse(\"Walk for atleast 20 minutes everyday.\")"
   ]
  },
  {
   "cell_type": "markdown",
   "id": "d2ab9a9c",
   "metadata": {},
   "source": [
    "`views.py`"
   ]
  },
  {
   "cell_type": "code",
   "execution_count": null,
   "id": "2745e9d5",
   "metadata": {},
   "outputs": [],
   "source": [
    "from django.shortcuts import render\n",
    "from django.http import HttpResponse\n",
    "\n",
    "# Create your views here.\n",
    "\n",
    "\n",
    "def january(request):\n",
    "    return HttpResponse(\"Eat no meat for entire month.\")\n",
    "\n",
    "\n",
    "def february(request):\n",
    "    return HttpResponse(\"Walk for atleast 20 minutes everyday.\")"
   ]
  },
  {
   "cell_type": "markdown",
   "id": "cc59ade4",
   "metadata": {},
   "source": [
    "### Dynamic Path Segments & Captured Values"
   ]
  },
  {
   "cell_type": "markdown",
   "id": "5234dad2",
   "metadata": {},
   "source": [
    "`views.py`"
   ]
  },
  {
   "cell_type": "code",
   "execution_count": null,
   "id": "f7b8d6ca",
   "metadata": {},
   "outputs": [],
   "source": [
    "from django.shortcuts import render\n",
    "from django.http import HttpResponse, HttpResponseNotFound\n",
    "\n",
    "# Create your views here.\n",
    "\n",
    "# def january(request):\n",
    "#     return HttpResponse(\"Eat no meat for entire month.\")\n",
    "\n",
    "# def february(request):\n",
    "#     return HttpResponse(\"Walk for atleast 20 minutes everyday.\")\n",
    "\n",
    "# def march(request):\n",
    "#     return HttpResponse(\"Learn Django for at least 20 minutes everyday.\")\n",
    "\n",
    "\n",
    "def monthly_challenge(request, month):\n",
    "    challenge_text = None\n",
    "\n",
    "    if month == \"january\":\n",
    "        challenge_text = \"Eat no meat for entire month.\"\n",
    "    elif month == \"february\":\n",
    "        challenge_text = \"Walk for atleast 20 minutes everyday.\"\n",
    "    elif month == \"march\":\n",
    "        challenge_text = \"Learn Django for at least 20 minutes everyday.\"\n",
    "    else:\n",
    "        return HttpResponseNotFound\n",
    "\n",
    "    return HttpResponse(challenge_text)"
   ]
  },
  {
   "cell_type": "markdown",
   "id": "f42f3074",
   "metadata": {},
   "source": [
    "`urls.py`"
   ]
  },
  {
   "cell_type": "code",
   "execution_count": null,
   "id": "6f004b01",
   "metadata": {},
   "outputs": [],
   "source": [
    "from django.urls import path\n",
    "from . import views\n",
    "\n",
    "urlpatterns = [\n",
    "    # path(\"january\", views.january),\n",
    "    # path(\"february\", views.february),\n",
    "    # path(\"march\", views.march)\n",
    "    path(\"<month>\", views.monthly_challenge)\n",
    "]"
   ]
  },
  {
   "cell_type": "markdown",
   "id": "bcea7329",
   "metadata": {},
   "source": [
    "### Path Converters"
   ]
  },
  {
   "cell_type": "markdown",
   "id": "120e24e0",
   "metadata": {},
   "source": [
    "`urls.py`"
   ]
  },
  {
   "cell_type": "code",
   "execution_count": null,
   "id": "74f6b86b",
   "metadata": {},
   "outputs": [],
   "source": [
    "from django.urls import path\n",
    "from . import views\n",
    "\n",
    "urlpatterns = [\n",
    "    # path(\"january\", views.january),\n",
    "    # path(\"february\", views.february),\n",
    "    # path(\"march\", views.march)\n",
    "    path(\"<int:month>\", views.monthly_challenge_by_number),\n",
    "    path(\"<str:month>\", views.monthly_challenge),\n",
    "]"
   ]
  },
  {
   "cell_type": "markdown",
   "id": "f7830e0b",
   "metadata": {},
   "source": [
    "`views.py`"
   ]
  },
  {
   "cell_type": "code",
   "execution_count": null,
   "id": "1c0f125c",
   "metadata": {},
   "outputs": [],
   "source": [
    "from django.shortcuts import render\n",
    "from django.http import HttpResponse, HttpResponseNotFound\n",
    "\n",
    "# Create your views here.\n",
    "\n",
    "# def january(request):\n",
    "#     return HttpResponse(\"Eat no meat for entire month.\")\n",
    "\n",
    "# def february(request):\n",
    "#     return HttpResponse(\"Walk for atleast 20 minutes everyday.\")\n",
    "\n",
    "# def march(request):\n",
    "#     return HttpResponse(\"Learn Django for at least 20 minutes everyday.\")\n",
    "\n",
    "\n",
    "def monthly_challenge_by_number(request, month):\n",
    "    challenge_text = None\n",
    "    if month == 1:\n",
    "        challenge_text = \"Eat no meat for entire month.\"\n",
    "    elif month == 2:\n",
    "        challenge_text = \"Walk for atleast 20 minutes everyday.\"\n",
    "    elif month == 3:\n",
    "        challenge_text = \"Learn Django for at least 20 minutes everyday.\"\n",
    "    else:\n",
    "        return HttpResponseNotFound(\"This month is not supported.\")\n",
    "    return HttpResponse(challenge_text)\n",
    "\n",
    "\n",
    "def monthly_challenge(request, month):\n",
    "    challenge_text = None\n",
    "\n",
    "    if month == \"january\":\n",
    "        challenge_text = \"Eat no meat for entire month.\"\n",
    "    elif month == \"february\":\n",
    "        challenge_text = \"Walk for atleast 20 minutes everyday.\"\n",
    "    elif month == \"march\":\n",
    "        challenge_text = \"Learn Django for at least 20 minutes everyday.\"\n",
    "    else:\n",
    "        return HttpResponseNotFound(\"This month is not supported.\")\n",
    "\n",
    "    return HttpResponse(challenge_text)"
   ]
  },
  {
   "cell_type": "markdown",
   "id": "125b9ba0",
   "metadata": {},
   "source": [
    "### Adding More Dynamic View Logic"
   ]
  },
  {
   "cell_type": "markdown",
   "id": "96efd250",
   "metadata": {},
   "source": [
    "`views.py`"
   ]
  },
  {
   "cell_type": "code",
   "execution_count": null,
   "id": "3dd91855",
   "metadata": {},
   "outputs": [],
   "source": [
    "from django.shortcuts import render\n",
    "from django.http import HttpResponse, HttpResponseNotFound\n",
    "\n",
    "monthly_challenges = {\n",
    "    \"january\":\"Eat no meat for entire month.\",\n",
    "    \"february\":\"Walk for atleast 20 minutes everyday.\",\n",
    "    \"march\":\"Learn Django for at least 20 minutes everyday.\"\n",
    "    \"april\":\"Eat no meat for entire month.\",\n",
    "    \"may\":\"Walk for atleast 20 minutes everyday.\",\n",
    "    \"june\":\"Learn Django for at least 20 minutes everyday.\"\n",
    "    \"july\":\"Eat no meat for entire month.\",\n",
    "    \"august\":\"Walk for atleast 20 minutes everyday.\",\n",
    "    \"september\":\"Learn Django for at least 20 minutes everyday.\"\n",
    "    \"october\":\"Eat no meat for entire month.\",\n",
    "    \"november\":\"Walk for atleast 20 minutes everyday.\",\n",
    "    \"december\":\"Learn Django for at least 20 minutes everyday.\"\n",
    "}\n",
    "\n",
    "def monthly_challenge_by_number(request,month):\n",
    "    challenge_text = None\n",
    "    if month == 1:\n",
    "        challenge_text= \"Eat no meat for entire month.\"\n",
    "    elif month == 2:\n",
    "        challenge_text = \"Walk for atleast 20 minutes everyday.\"\n",
    "    elif month == 3:\n",
    "        challenge_text = \"Learn Django for at least 20 minutes everyday.\"\n",
    "    else:\n",
    "        return HttpResponseNotFound(\"This month is not supported.\")\n",
    "    return HttpResponse(challenge_text)\n",
    "\n",
    "\n",
    "def monthly_challenge(request,month):\n",
    "    try:\n",
    "        challenge_text = monthly_challenges[month]\n",
    "        return HttpResponse(challenge_text)\n",
    "    except:\n",
    "        return HttpResponseNotFound(\"This month not supported.\")\n",
    "        \n",
    "    "
   ]
  },
  {
   "cell_type": "markdown",
   "id": "9bf1fe1e",
   "metadata": {},
   "source": [
    "### Redirect"
   ]
  },
  {
   "cell_type": "markdown",
   "id": "ec00b547",
   "metadata": {},
   "source": [
    "`views.py`"
   ]
  },
  {
   "cell_type": "code",
   "execution_count": null,
   "id": "4d01bdab",
   "metadata": {},
   "outputs": [],
   "source": [
    "from django.shortcuts import render\n",
    "from django.http import HttpResponse, HttpResponseNotFound, HttpResponseRedirect\n",
    "\n",
    "monthly_challenges = {\n",
    "    \"january\": \"Eat no meat for entire month.\",\n",
    "    \"february\": \"Walk for atleast 20 minutes everyday.\",\n",
    "    \"march\": \"Learn Django for at least 20 minutes everyday.\",\n",
    "    \"april\": \"Eat no meat for entire month.\",\n",
    "    \"may\": \"Walk for atleast 20 minutes everyday.\",\n",
    "    \"june\": \"Learn Django for at least 20 minutes everyday.\",\n",
    "    \"july\": \"Eat no meat for entire month.\",\n",
    "    \"august\": \"Walk for atleast 20 minutes everyday.\",\n",
    "    \"september\": \"Learn Django for at least 20 minutes everyday.\",\n",
    "    \"october\": \"Eat no meat for entire month.\",\n",
    "    \"november\": \"Walk for atleast 20 minutes everyday.\",\n",
    "    \"december\": \"Learn Django for at least 20 minutes everyday.\",\n",
    "}\n",
    "\n",
    "\n",
    "def monthly_challenge_by_number(request, month):\n",
    "    try:\n",
    "        months = list(monthly_challenges.keys())\n",
    "        redirect_month = months[month - 1]\n",
    "        return HttpResponseRedirect(\"/challenges/\" + redirect_month)\n",
    "    except:\n",
    "        return HttpResponseNotFound(\"This month not supported.\")\n",
    "\n",
    "\n",
    "def monthly_challenge(request, month):\n",
    "    try:\n",
    "        challenge_text = monthly_challenges[month]\n",
    "        return HttpResponse(challenge_text)\n",
    "    except:\n",
    "        return HttpResponseNotFound(\"This month not supported.\")"
   ]
  },
  {
   "cell_type": "markdown",
   "id": "3d3855c1",
   "metadata": {},
   "source": [
    "### The Reverse Function & named URLs"
   ]
  },
  {
   "cell_type": "markdown",
   "id": "5b6499f6",
   "metadata": {},
   "source": [
    "`views.py`"
   ]
  },
  {
   "cell_type": "code",
   "execution_count": null,
   "id": "d29cdc47",
   "metadata": {},
   "outputs": [],
   "source": [
    "from django.shortcuts import render\n",
    "from django.http import HttpResponse, HttpResponseNotFound, HttpResponseRedirect\n",
    "from django.urls import reverse\n",
    "\n",
    "monthly_challenges = {\n",
    "    \"january\": \"Eat no meat for entire month.\",\n",
    "    \"february\": \"Walk for atleast 20 minutes everyday.\",\n",
    "    \"march\": \"Learn Django for at least 20 minutes everyday.\",\n",
    "    \"april\": \"Eat no meat for entire month.\",\n",
    "    \"may\": \"Walk for atleast 20 minutes everyday.\",\n",
    "    \"june\": \"Learn Django for at least 20 minutes everyday.\",\n",
    "    \"july\": \"Eat no meat for entire month.\",\n",
    "    \"august\": \"Walk for atleast 20 minutes everyday.\",\n",
    "    \"september\": \"Learn Django for at least 20 minutes everyday.\",\n",
    "    \"october\": \"Eat no meat for entire month.\",\n",
    "    \"november\": \"Walk for atleast 20 minutes everyday.\",\n",
    "    \"december\": \"Learn Django for at least 20 minutes everyday.\",\n",
    "}\n",
    "\n",
    "\n",
    "def monthly_challenge_by_number(request, month):\n",
    "    try:\n",
    "        months = list(monthly_challenges.keys())\n",
    "        redirect_month = months[month - 1]\n",
    "        redirect_path = reverse(\"month-challenge\", args=[redirect_month])\n",
    "        return HttpResponseRedirect(redirect_path)\n",
    "    except:\n",
    "        return HttpResponseNotFound(\"This month not supported.\")\n",
    "\n",
    "\n",
    "def monthly_challenge(request, month):\n",
    "    try:\n",
    "        challenge_text = monthly_challenges[month]\n",
    "        return HttpResponse(challenge_text)\n",
    "    except:\n",
    "        return HttpResponseNotFound(\"This month not supported.\")"
   ]
  },
  {
   "cell_type": "markdown",
   "id": "f9d97f1b",
   "metadata": {},
   "source": [
    "`urls.py`"
   ]
  },
  {
   "cell_type": "code",
   "execution_count": null,
   "id": "f581ecf7",
   "metadata": {},
   "outputs": [],
   "source": [
    "from django.urls import path\n",
    "from . import views\n",
    "\n",
    "urlpatterns = [\n",
    "    # path(\"january\", views.january),\n",
    "    # path(\"february\", views.february),\n",
    "    # path(\"march\", views.march)\n",
    "    path(\"<int:month>\", views.monthly_challenge_by_number),\n",
    "    path(\"<str:month>\", views.monthly_challenge, name=\"month-challenge\"),\n",
    "]"
   ]
  },
  {
   "cell_type": "code",
   "execution_count": 1,
   "id": "b1875ca7",
   "metadata": {},
   "outputs": [],
   "source": [
    "### Returning HTML"
   ]
  },
  {
   "cell_type": "markdown",
   "id": "0ee6926c",
   "metadata": {},
   "source": [
    "`views.py`"
   ]
  },
  {
   "cell_type": "code",
   "execution_count": null,
   "id": "1ed7aca4",
   "metadata": {},
   "outputs": [],
   "source": [
    "from django.shortcuts import render\n",
    "from django.http import HttpResponse, HttpResponseNotFound, HttpResponseRedirect\n",
    "from django.urls import reverse\n",
    "\n",
    "monthly_challenges = {\n",
    "    \"january\": \"Eat no meat for entire month.\",\n",
    "    \"february\": \"Walk for atleast 20 minutes everyday.\",\n",
    "    \"march\": \"Learn Django for at least 20 minutes everyday.\",\n",
    "    \"april\": \"Eat no meat for entire month.\",\n",
    "    \"may\": \"Walk for atleast 20 minutes everyday.\",\n",
    "    \"june\": \"Learn Django for at least 20 minutes everyday.\",\n",
    "    \"july\": \"Eat no meat for entire month.\",\n",
    "    \"august\": \"Walk for atleast 20 minutes everyday.\",\n",
    "    \"september\": \"Learn Django for at least 20 minutes everyday.\",\n",
    "    \"october\": \"Eat no meat for entire month.\",\n",
    "    \"november\": \"Walk for atleast 20 minutes everyday.\",\n",
    "    \"december\": \"Learn Django for at least 20 minutes everyday.\",\n",
    "}\n",
    "\n",
    "\n",
    "def monthly_challenge_by_number(request, month):\n",
    "    try:\n",
    "        months = list(monthly_challenges.keys())\n",
    "        redirect_month = months[month - 1]\n",
    "        redirect_path = reverse(\"month-challenge\", args=[redirect_month])\n",
    "        return HttpResponseRedirect(redirect_path)\n",
    "    except:\n",
    "        return HttpResponseNotFound(\"This month not supported.\")\n",
    "\n",
    "\n",
    "def monthly_challenge(request, month):\n",
    "    try:\n",
    "        challenge_text = monthly_challenges[month]\n",
    "        response_data = f\"<h1>{challenge_text}</h1>\"\n",
    "        return HttpResponse(response_data)\n",
    "    except:\n",
    "        return HttpResponseNotFound(\"This month not supported.\")"
   ]
  }
 ],
 "metadata": {
  "kernelspec": {
   "display_name": "django",
   "language": "python",
   "name": "python3"
  },
  "language_info": {
   "codemirror_mode": {
    "name": "ipython",
    "version": 3
   },
   "file_extension": ".py",
   "mimetype": "text/x-python",
   "name": "python",
   "nbconvert_exporter": "python",
   "pygments_lexer": "ipython3",
   "version": "3.13.2"
  }
 },
 "nbformat": 4,
 "nbformat_minor": 5
}
