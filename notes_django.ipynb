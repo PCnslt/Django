{
 "cells": [
  {
   "cell_type": "markdown",
   "id": "69517161",
   "metadata": {},
   "source": [
    "# Start Project"
   ]
  },
  {
   "cell_type": "markdown",
   "id": "fd780f49",
   "metadata": {},
   "source": [
    "### Create Project"
   ]
  },
  {
   "cell_type": "markdown",
   "id": "9509f4c3",
   "metadata": {},
   "source": [
    "django-admin startproject project_name"
   ]
  },
  {
   "cell_type": "markdown",
   "id": "6a0b0c55",
   "metadata": {},
   "source": [
    "### Run the server"
   ]
  },
  {
   "cell_type": "markdown",
   "id": "32ff9e6c",
   "metadata": {},
   "source": [
    "python3 manage.py runserver"
   ]
  },
  {
   "cell_type": "markdown",
   "id": "242e857e",
   "metadata": {},
   "source": [
    "### Create a new App"
   ]
  },
  {
   "cell_type": "markdown",
   "id": "94e740b3",
   "metadata": {},
   "source": [
    "python3 manage.py startapp app_name"
   ]
  },
  {
   "cell_type": "markdown",
   "id": "34e61e19",
   "metadata": {},
   "source": [
    "# URLs and Views"
   ]
  },
  {
   "cell_type": "markdown",
   "id": "6596184d",
   "metadata": {},
   "source": [
    "### Create URLs"
   ]
  },
  {
   "cell_type": "markdown",
   "id": "39f6bb64",
   "metadata": {},
   "source": [
    "Update 'views.py' file inside the app folder."
   ]
  },
  {
   "cell_type": "code",
   "execution_count": null,
   "id": "bb9f394f",
   "metadata": {},
   "outputs": [],
   "source": [
    "from django.shortcuts import render\n",
    "from django.http import HttpResponse\n",
    "\n",
    "# Create your views here.\n",
    "\n",
    "\n",
    "def index(request):\n",
    "    return HttpResponse(\"Hello World\")"
   ]
  },
  {
   "cell_type": "markdown",
   "id": "ed5e57b4",
   "metadata": {},
   "source": [
    "Create 'urls.py' file inside the app folder, and call the view.index that was created above."
   ]
  },
  {
   "cell_type": "code",
   "execution_count": null,
   "id": "60cdc8b6",
   "metadata": {},
   "outputs": [],
   "source": [
    "from django.urls import path\n",
    "from . import views\n",
    "\n",
    "urlpatterns = [path(\"january\", views.index)]"
   ]
  },
  {
   "cell_type": "markdown",
   "id": "9c1e54ce",
   "metadata": {},
   "source": [
    "Connect the above url config, to the entire project's url config file:"
   ]
  },
  {
   "cell_type": "code",
   "execution_count": null,
   "id": "5456b174",
   "metadata": {},
   "outputs": [],
   "source": [
    "\"\"\"\n",
    "URL configuration for monthly_challenges project.\n",
    "\n",
    "The `urlpatterns` list routes URLs to views. For more information please see:\n",
    "    https://docs.djangoproject.com/en/5.2/topics/http/urls/\n",
    "Examples:\n",
    "Function views\n",
    "    1. Add an import:  from my_app import views\n",
    "    2. Add a URL to urlpatterns:  path('', views.home, name='home')\n",
    "Class-based views\n",
    "    1. Add an import:  from other_app.views import Home\n",
    "    2. Add a URL to urlpatterns:  path('', Home.as_view(), name='home')\n",
    "Including another URLconf\n",
    "    1. Import the include() function: from django.urls import include, path\n",
    "    2. Add a URL to urlpatterns:  path('blog/', include('blog.urls'))\n",
    "\"\"\"\n",
    "\n",
    "from django.contrib import admin\n",
    "from django.urls import path, include\n",
    "\n",
    "urlpatterns = [\n",
    "    path(\"admin/\", admin.site.urls),\n",
    "    path(\"challenges/\", include(\"challenges.urls\")),\n",
    "]"
   ]
  }
 ],
 "metadata": {
  "kernelspec": {
   "display_name": "django",
   "language": "python",
   "name": "python3"
  },
  "language_info": {
   "name": "python",
   "version": "3.13.2"
  }
 },
 "nbformat": 4,
 "nbformat_minor": 5
}
